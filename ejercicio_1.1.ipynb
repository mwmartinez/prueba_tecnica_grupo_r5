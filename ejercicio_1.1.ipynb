{
 "cells": [
  {
   "cell_type": "code",
   "execution_count": 1,
   "metadata": {},
   "outputs": [],
   "source": [
    "#importar librerias\n",
    "import pandas as pd\n",
    "import json"
   ]
  },
  {
   "cell_type": "code",
   "execution_count": 2,
   "metadata": {},
   "outputs": [],
   "source": [
    "# ruta del archivo JSON\n",
    "json_file_path = 'taylor_swift_spotify.json'\n",
    "\n",
    "# leo el contenido del archivo\n",
    "# se abre el archivo JSON en modo de lectura ('r') y leemos su contenido.\n",
    "# esto nos da una cadena que contiene la representación del archivo JSON.\n",
    "\n",
    "with open(json_file_path, 'r') as file:\n",
    "    json_data = file.read()\n",
    "\n",
    "# Cargo el JSON en un diccionario\n",
    "data = json.loads(json_data)"
   ]
  },
  {
   "cell_type": "code",
   "execution_count": 3,
   "metadata": {},
   "outputs": [],
   "source": [
    "# normalizar el diccionario a un DataFrame de pandas\n",
    "canciones_taylor = pd.json_normalize(data, record_path=['albums', 'tracks'], \n",
    "                       meta=['artist_id', 'artist_name', 'artist_popularity', \n",
    "                             ['albums', 'album_id'], ['albums', 'album_name'], ['albums', 'album_release_date'], ['albums', 'album_total_tracks']])\n"
   ]
  },
  {
   "cell_type": "code",
   "execution_count": 4,
   "metadata": {},
   "outputs": [
    {
     "data": {
      "text/plain": [
       "Index(['disc_number', 'duration_ms', 'explicit', 'track_number',\n",
       "       'track_popularity', 'track_id', 'track_name',\n",
       "       'audio_features.danceability', 'audio_features.energy',\n",
       "       'audio_features.key', 'audio_features.loudness', 'audio_features.mode',\n",
       "       'audio_features.speechiness', 'audio_features.acousticness',\n",
       "       'audio_features.instrumentalness', 'audio_features.liveness',\n",
       "       'audio_features.valence', 'audio_features.tempo', 'audio_features.id',\n",
       "       'audio_features.time_signature', 'artist_id', 'artist_name',\n",
       "       'artist_popularity', 'albums.album_id', 'albums.album_name',\n",
       "       'albums.album_release_date', 'albums.album_total_tracks'],\n",
       "      dtype='object')"
      ]
     },
     "execution_count": 4,
     "metadata": {},
     "output_type": "execute_result"
    }
   ],
   "source": [
    "# mostrar nombre de las columnas\n",
    "canciones_taylor.columns"
   ]
  },
  {
   "cell_type": "code",
   "execution_count": 5,
   "metadata": {},
   "outputs": [],
   "source": [
    "# cambio nombre de las columnas\n",
    "canciones_taylor = canciones_taylor.rename(columns={\n",
    "    'albums.album_id': 'album_id',\n",
    "    'albums.album_name': 'album_name',\n",
    "    'albums.album_release_date': 'album_release_date',\n",
    "    'albums.album_total_tracks': 'album_total_tracks'\n",
    "})"
   ]
  },
  {
   "cell_type": "code",
   "execution_count": 6,
   "metadata": {},
   "outputs": [
    {
     "data": {
      "text/plain": [
       "Index(['disc_number', 'duration_ms', 'explicit', 'track_number',\n",
       "       'track_popularity', 'track_id', 'track_name',\n",
       "       'audio_features.danceability', 'audio_features.energy',\n",
       "       'audio_features.key', 'audio_features.loudness', 'audio_features.mode',\n",
       "       'audio_features.speechiness', 'audio_features.acousticness',\n",
       "       'audio_features.instrumentalness', 'audio_features.liveness',\n",
       "       'audio_features.valence', 'audio_features.tempo', 'audio_features.id',\n",
       "       'audio_features.time_signature', 'artist_id', 'artist_name',\n",
       "       'artist_popularity', 'album_id', 'album_name', 'album_release_date',\n",
       "       'album_total_tracks'],\n",
       "      dtype='object')"
      ]
     },
     "execution_count": 6,
     "metadata": {},
     "output_type": "execute_result"
    }
   ],
   "source": [
    "# muestro nombre de las columnas resultantes\n",
    "canciones_taylor.columns"
   ]
  },
  {
   "cell_type": "code",
   "execution_count": 7,
   "metadata": {},
   "outputs": [
    {
     "data": {
      "text/html": [
       "<div>\n",
       "<style scoped>\n",
       "    .dataframe tbody tr th:only-of-type {\n",
       "        vertical-align: middle;\n",
       "    }\n",
       "\n",
       "    .dataframe tbody tr th {\n",
       "        vertical-align: top;\n",
       "    }\n",
       "\n",
       "    .dataframe thead th {\n",
       "        text-align: right;\n",
       "    }\n",
       "</style>\n",
       "<table border=\"1\" class=\"dataframe\">\n",
       "  <thead>\n",
       "    <tr style=\"text-align: right;\">\n",
       "      <th></th>\n",
       "      <th>disc_number</th>\n",
       "      <th>duration_ms</th>\n",
       "      <th>explicit</th>\n",
       "      <th>track_number</th>\n",
       "      <th>track_popularity</th>\n",
       "      <th>track_id</th>\n",
       "      <th>track_name</th>\n",
       "      <th>audio_features.danceability</th>\n",
       "      <th>audio_features.energy</th>\n",
       "      <th>audio_features.key</th>\n",
       "      <th>...</th>\n",
       "      <th>audio_features.tempo</th>\n",
       "      <th>audio_features.id</th>\n",
       "      <th>audio_features.time_signature</th>\n",
       "      <th>artist_id</th>\n",
       "      <th>artist_name</th>\n",
       "      <th>artist_popularity</th>\n",
       "      <th>album_id</th>\n",
       "      <th>album_name</th>\n",
       "      <th>album_release_date</th>\n",
       "      <th>album_total_tracks</th>\n",
       "    </tr>\n",
       "  </thead>\n",
       "  <tbody>\n",
       "    <tr>\n",
       "      <th>0</th>\n",
       "      <td>1</td>\n",
       "      <td>212600</td>\n",
       "      <td>False</td>\n",
       "      <td>1</td>\n",
       "      <td>77</td>\n",
       "      <td>4WUepByoeqcedHoYhSNHRt</td>\n",
       "      <td>Welcome To New York (Taylor's Version)</td>\n",
       "      <td>0.757</td>\n",
       "      <td>0.610</td>\n",
       "      <td>7.0</td>\n",
       "      <td>...</td>\n",
       "      <td>116.998</td>\n",
       "      <td>4WUepByoeqcedHoYhSNHRt</td>\n",
       "      <td>4.0</td>\n",
       "      <td>06HL4z0CvFAxyc27GX</td>\n",
       "      <td>Taylor Swift</td>\n",
       "      <td>120</td>\n",
       "      <td>1o59UpKw81iHR0HPiSkJR0</td>\n",
       "      <td>1989 (Taylor's Version) [Deluxe]</td>\n",
       "      <td>2023-10-27</td>\n",
       "      <td>22</td>\n",
       "    </tr>\n",
       "    <tr>\n",
       "      <th>1</th>\n",
       "      <td>1</td>\n",
       "      <td>231833</td>\n",
       "      <td>False</td>\n",
       "      <td>2</td>\n",
       "      <td>78</td>\n",
       "      <td>0108kcWLnn2HlH2kedi1gn</td>\n",
       "      <td>Blank Space (Taylor's Version)</td>\n",
       "      <td>0.733</td>\n",
       "      <td>0.733</td>\n",
       "      <td>0.0</td>\n",
       "      <td>...</td>\n",
       "      <td>96.057</td>\n",
       "      <td>0108kcWLnn2HlH2kedi1gn</td>\n",
       "      <td>4.0</td>\n",
       "      <td>06HL4z0CvFAxyc27GX</td>\n",
       "      <td>Taylor Swift</td>\n",
       "      <td>120</td>\n",
       "      <td>1o59UpKw81iHR0HPiSkJR0</td>\n",
       "      <td>1989 (Taylor's Version) [Deluxe]</td>\n",
       "      <td>2023-10-27</td>\n",
       "      <td>22</td>\n",
       "    </tr>\n",
       "    <tr>\n",
       "      <th>2</th>\n",
       "      <td>1</td>\n",
       "      <td>231000</td>\n",
       "      <td>False</td>\n",
       "      <td>3</td>\n",
       "      <td>79</td>\n",
       "      <td>3Vpk1hfMAQme8VJ0SNRSkd</td>\n",
       "      <td>Style (Taylor's Version)</td>\n",
       "      <td>0.511</td>\n",
       "      <td>0.822</td>\n",
       "      <td>11.0</td>\n",
       "      <td>...</td>\n",
       "      <td>94.868</td>\n",
       "      <td>3Vpk1hfMAQme8VJ0SNRSkd</td>\n",
       "      <td>4.0</td>\n",
       "      <td>06HL4z0CvFAxyc27GX</td>\n",
       "      <td>Taylor Swift</td>\n",
       "      <td>120</td>\n",
       "      <td>1o59UpKw81iHR0HPiSkJR0</td>\n",
       "      <td>1989 (Taylor's Version) [Deluxe]</td>\n",
       "      <td>2023-10-27</td>\n",
       "      <td>22</td>\n",
       "    </tr>\n",
       "  </tbody>\n",
       "</table>\n",
       "<p>3 rows × 27 columns</p>\n",
       "</div>"
      ],
      "text/plain": [
       "   disc_number  duration_ms explicit  track_number  track_popularity  \\\n",
       "0            1       212600    False             1                77   \n",
       "1            1       231833    False             2                78   \n",
       "2            1       231000    False             3                79   \n",
       "\n",
       "                 track_id                              track_name  \\\n",
       "0  4WUepByoeqcedHoYhSNHRt  Welcome To New York (Taylor's Version)   \n",
       "1  0108kcWLnn2HlH2kedi1gn          Blank Space (Taylor's Version)   \n",
       "2  3Vpk1hfMAQme8VJ0SNRSkd                Style (Taylor's Version)   \n",
       "\n",
       "  audio_features.danceability  audio_features.energy  audio_features.key  ...  \\\n",
       "0                       0.757                  0.610                 7.0  ...   \n",
       "1                       0.733                  0.733                 0.0  ...   \n",
       "2                       0.511                  0.822                11.0  ...   \n",
       "\n",
       "   audio_features.tempo       audio_features.id  \\\n",
       "0               116.998  4WUepByoeqcedHoYhSNHRt   \n",
       "1                96.057  0108kcWLnn2HlH2kedi1gn   \n",
       "2                94.868  3Vpk1hfMAQme8VJ0SNRSkd   \n",
       "\n",
       "   audio_features.time_signature           artist_id   artist_name  \\\n",
       "0                            4.0  06HL4z0CvFAxyc27GX  Taylor Swift   \n",
       "1                            4.0  06HL4z0CvFAxyc27GX  Taylor Swift   \n",
       "2                            4.0  06HL4z0CvFAxyc27GX  Taylor Swift   \n",
       "\n",
       "   artist_popularity                album_id  \\\n",
       "0                120  1o59UpKw81iHR0HPiSkJR0   \n",
       "1                120  1o59UpKw81iHR0HPiSkJR0   \n",
       "2                120  1o59UpKw81iHR0HPiSkJR0   \n",
       "\n",
       "                         album_name album_release_date  album_total_tracks  \n",
       "0  1989 (Taylor's Version) [Deluxe]         2023-10-27                  22  \n",
       "1  1989 (Taylor's Version) [Deluxe]         2023-10-27                  22  \n",
       "2  1989 (Taylor's Version) [Deluxe]         2023-10-27                  22  \n",
       "\n",
       "[3 rows x 27 columns]"
      ]
     },
     "execution_count": 7,
     "metadata": {},
     "output_type": "execute_result"
    }
   ],
   "source": [
    "# muestro las tres primeras filas del dataset\n",
    "canciones_taylor.head(3)"
   ]
  },
  {
   "cell_type": "code",
   "execution_count": 8,
   "metadata": {},
   "outputs": [],
   "source": [
    "# Guardo el DataFrame como un archivo CSV\n",
    "canciones_taylor.to_csv('canciones_taylor.csv', index=False)"
   ]
  }
 ],
 "metadata": {
  "kernelspec": {
   "display_name": "Python 3",
   "language": "python",
   "name": "python3"
  },
  "language_info": {
   "codemirror_mode": {
    "name": "ipython",
    "version": 3
   },
   "file_extension": ".py",
   "mimetype": "text/x-python",
   "name": "python",
   "nbconvert_exporter": "python",
   "pygments_lexer": "ipython3",
   "version": "3.11.1"
  }
 },
 "nbformat": 4,
 "nbformat_minor": 2
}
