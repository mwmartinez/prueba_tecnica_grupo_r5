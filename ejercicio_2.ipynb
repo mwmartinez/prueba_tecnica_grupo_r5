{
 "cells": [
  {
   "cell_type": "code",
   "execution_count": 1,
   "metadata": {},
   "outputs": [],
   "source": [
    "#importar librerias\n",
    "import pandas as pd"
   ]
  },
  {
   "cell_type": "code",
   "execution_count": 2,
   "metadata": {},
   "outputs": [],
   "source": [
    "# cargar dataset\n",
    "dataset = pd.read_csv('dataset.csv')"
   ]
  },
  {
   "cell_type": "code",
   "execution_count": 3,
   "metadata": {},
   "outputs": [
    {
     "name": "stdout",
     "output_type": "stream",
     "text": [
      "<class 'pandas.core.frame.DataFrame'>\n",
      "RangeIndex: 539 entries, 0 to 538\n",
      "Data columns (total 27 columns):\n",
      " #   Column                           Non-Null Count  Dtype  \n",
      "---  ------                           --------------  -----  \n",
      " 0   disc_number                      539 non-null    int64  \n",
      " 1   duration_ms                      539 non-null    int64  \n",
      " 2   explicit                         539 non-null    object \n",
      " 3   track_number                     539 non-null    int64  \n",
      " 4   track_popularity                 539 non-null    int64  \n",
      " 5   track_id                         531 non-null    object \n",
      " 6   track_name                       532 non-null    object \n",
      " 7   audio_features.danceability      537 non-null    float64\n",
      " 8   audio_features.energy            537 non-null    float64\n",
      " 9   audio_features.key               538 non-null    float64\n",
      " 10  audio_features.loudness          537 non-null    float64\n",
      " 11  audio_features.mode              539 non-null    int64  \n",
      " 12  audio_features.speechiness       538 non-null    float64\n",
      " 13  audio_features.acousticness      538 non-null    float64\n",
      " 14  audio_features.instrumentalness  539 non-null    object \n",
      " 15  audio_features.liveness          538 non-null    float64\n",
      " 16  audio_features.valence           539 non-null    float64\n",
      " 17  audio_features.tempo             538 non-null    float64\n",
      " 18  audio_features.id                539 non-null    object \n",
      " 19  audio_features.time_signature    538 non-null    float64\n",
      " 20  artist_id                        539 non-null    object \n",
      " 21  artist_name                      539 non-null    object \n",
      " 22  artist_popularity                539 non-null    int64  \n",
      " 23  album_id                         539 non-null    object \n",
      " 24  album_name                       477 non-null    object \n",
      " 25  album_release_date               539 non-null    object \n",
      " 26  album_total_tracks               539 non-null    object \n",
      "dtypes: float64(10), int64(6), object(11)\n",
      "memory usage: 113.8+ KB\n"
     ]
    }
   ],
   "source": [
    "# mostrar informacion del dataset \n",
    "# nombre de columnas, cantidad de valores no nulos y tipo de dato en cada columna\n",
    "dataset.info()"
   ]
  },
  {
   "cell_type": "code",
   "execution_count": 14,
   "metadata": {},
   "outputs": [
    {
     "data": {
      "text/plain": [
       "disc_number                         0\n",
       "duration_ms                         0\n",
       "explicit                            0\n",
       "track_number                        0\n",
       "track_popularity                    0\n",
       "track_id                            8\n",
       "track_name                          7\n",
       "audio_features.danceability         2\n",
       "audio_features.energy               2\n",
       "audio_features.key                  1\n",
       "audio_features.loudness             2\n",
       "audio_features.mode                 0\n",
       "audio_features.speechiness          1\n",
       "audio_features.acousticness         1\n",
       "audio_features.instrumentalness     0\n",
       "audio_features.liveness             1\n",
       "audio_features.valence              0\n",
       "audio_features.tempo                1\n",
       "audio_features.id                   0\n",
       "audio_features.time_signature       1\n",
       "artist_id                           0\n",
       "artist_name                         0\n",
       "artist_popularity                   0\n",
       "album_id                            0\n",
       "album_name                         62\n",
       "album_release_date                  0\n",
       "album_total_tracks                  0\n",
       "dtype: int64"
      ]
     },
     "execution_count": 14,
     "metadata": {},
     "output_type": "execute_result"
    }
   ],
   "source": [
    "#cantidad de valores nulos por columna\n",
    "dataset.isnull().sum()"
   ]
  },
  {
   "cell_type": "code",
   "execution_count": 25,
   "metadata": {},
   "outputs": [
    {
     "data": {
      "text/html": [
       "<div>\n",
       "<style scoped>\n",
       "    .dataframe tbody tr th:only-of-type {\n",
       "        vertical-align: middle;\n",
       "    }\n",
       "\n",
       "    .dataframe tbody tr th {\n",
       "        vertical-align: top;\n",
       "    }\n",
       "\n",
       "    .dataframe thead th {\n",
       "        text-align: right;\n",
       "    }\n",
       "</style>\n",
       "<table border=\"1\" class=\"dataframe\">\n",
       "  <thead>\n",
       "    <tr style=\"text-align: right;\">\n",
       "      <th></th>\n",
       "      <th>explicit</th>\n",
       "      <th>audio_features.instrumentalness</th>\n",
       "      <th>album_total_tracks</th>\n",
       "      <th>album_release_date</th>\n",
       "      <th>duration_ms</th>\n",
       "    </tr>\n",
       "  </thead>\n",
       "  <tbody>\n",
       "    <tr>\n",
       "      <th>0</th>\n",
       "      <td>False</td>\n",
       "      <td>3.66e-05</td>\n",
       "      <td>22</td>\n",
       "      <td>2023-10-27</td>\n",
       "      <td>212600</td>\n",
       "    </tr>\n",
       "    <tr>\n",
       "      <th>1</th>\n",
       "      <td>False</td>\n",
       "      <td>0</td>\n",
       "      <td>22</td>\n",
       "      <td>2023-10-27</td>\n",
       "      <td>231833</td>\n",
       "    </tr>\n",
       "    <tr>\n",
       "      <th>2</th>\n",
       "      <td>False</td>\n",
       "      <td>0.0197</td>\n",
       "      <td>22</td>\n",
       "      <td>2023-10-27</td>\n",
       "      <td>231000</td>\n",
       "    </tr>\n",
       "    <tr>\n",
       "      <th>3</th>\n",
       "      <td>False</td>\n",
       "      <td>5.59e-05</td>\n",
       "      <td>22</td>\n",
       "      <td>2023-10-27</td>\n",
       "      <td>235800</td>\n",
       "    </tr>\n",
       "    <tr>\n",
       "      <th>4</th>\n",
       "      <td>False</td>\n",
       "      <td>0</td>\n",
       "      <td>22</td>\n",
       "      <td>2023-10-27</td>\n",
       "      <td>193289</td>\n",
       "    </tr>\n",
       "  </tbody>\n",
       "</table>\n",
       "</div>"
      ],
      "text/plain": [
       "  explicit audio_features.instrumentalness album_total_tracks  \\\n",
       "0    False                        3.66e-05                 22   \n",
       "1    False                               0                 22   \n",
       "2    False                          0.0197                 22   \n",
       "3    False                        5.59e-05                 22   \n",
       "4    False                               0                 22   \n",
       "\n",
       "  album_release_date  duration_ms  \n",
       "0         2023-10-27       212600  \n",
       "1         2023-10-27       231833  \n",
       "2         2023-10-27       231000  \n",
       "3         2023-10-27       235800  \n",
       "4         2023-10-27       193289  "
      ]
     },
     "execution_count": 25,
     "metadata": {},
     "output_type": "execute_result"
    }
   ],
   "source": [
    "#mostar los primeros registros de estas columnas\n",
    "dataset[['explicit', 'audio_features.instrumentalness', 'album_total_tracks','album_release_date','duration_ms']].head()"
   ]
  },
  {
   "cell_type": "markdown",
   "metadata": {},
   "source": [
    "### Anomalias encontradas:\n",
    "\n",
    "Al revisar la información proporcionada por `dataset.info()`, podemos identificar estas anomalías para mejorar en el conjunto de datos.\n",
    "\n",
    "### Valores Nulos:\n",
    "- `track_id`\n",
    "- `track_name`\n",
    "- `audio_features.danceability`\n",
    "- `audio_features.energy`\n",
    "- `audio_features.key`\n",
    "- `audio_features.loudness`\n",
    "- `audio_features.speechiness`\n",
    "- `audio_features.acousticness`\n",
    "- `audio_features.instrumentalness`\n",
    "- `audio_features.liveness`\n",
    "- `audio_features.tempo`\n",
    "- `audio_features.time_signature`\n",
    "- `album_name`\n",
    "\n",
    "Estas columnas tienen valores nulos. Se puede considerar manejar estos valores nulos, ya sea eliminando las filas correspondientes o imputando sus valores según el tipo de dato.\n",
    "\n",
    "### Tipos de Datos:\n",
    "- `explicit`\n",
    "- `audio_features.instrumentalness`\n",
    "- `album_total_tracks`\n",
    "\n",
    "Estas columnas tienen el tipo de dato `object` cuando podrían ser convertidas a tipos de datos más apropiados. \n",
    "- `explicit` podría ser convertida a tipo de dato booleano,\n",
    "- `audio_features.instrumentalness` a tipo de dato float \n",
    "- `album_total_tracks` a tipo de dato numérico.\n",
    "\n",
    "### Formato de Fecha:\n",
    "- `album_release_date`\n",
    "\n",
    "Convertir esta columna a un tipo de dato de fecha si se planea realizar análisis temporal.\n"
   ]
  },
  {
   "cell_type": "code",
   "execution_count": 18,
   "metadata": {},
   "outputs": [
    {
     "data": {
      "text/plain": [
       "disc_number                          2\n",
       "duration_ms                        364\n",
       "explicit                             4\n",
       "track_number                        46\n",
       "track_popularity                    73\n",
       "track_id                           512\n",
       "track_name                         331\n",
       "audio_features.danceability        267\n",
       "audio_features.energy              348\n",
       "audio_features.key                  12\n",
       "audio_features.loudness            448\n",
       "audio_features.mode                  2\n",
       "audio_features.speechiness         292\n",
       "audio_features.acousticness        401\n",
       "audio_features.instrumentalness    240\n",
       "audio_features.liveness            271\n",
       "audio_features.valence             326\n",
       "audio_features.tempo               450\n",
       "audio_features.id                  519\n",
       "audio_features.time_signature        3\n",
       "artist_id                            1\n",
       "artist_name                          1\n",
       "artist_popularity                    1\n",
       "album_id                            26\n",
       "album_name                          24\n",
       "album_release_date                  23\n",
       "album_total_tracks                  17\n",
       "dtype: int64"
      ]
     },
     "execution_count": 18,
     "metadata": {},
     "output_type": "execute_result"
    }
   ],
   "source": [
    "#identificar valores unicos\n",
    "dataset.nunique()"
   ]
  },
  {
   "cell_type": "markdown",
   "metadata": {},
   "source": [
    "### Normalizacion\n",
    "\n",
    "Una vez que el conjunto de datos ha sido limpiado, se procederá a dividirlo en tres conjuntos de datos o tablas. En este proceso de normalización, las tablas resultantes serán organizadas de tal manera que Artistas y Álbumes actuarán como tablas de dimensiones, mientras que la tabla Canciones será considerada como una tabla de hechos. Este enfoque facilitará la creación de relaciones significativas entre las entidades durante la posterior construcción del modelo entidad-relación. Una vez definidas las relaciones, la información se almacenará en una base de datos para su posterior análisis y consulta.\n",
    "\n",
    "#### Tabla de Artistas (`artistas`):\n",
    "- `id_artista` (Clave Primaria)\n",
    "- `artist_name`\n",
    "- `artist_popularity`\n",
    "\n",
    "#### Tabla de Álbumes (`albunes`):\n",
    "- `id_album` (Clave Primaria)\n",
    "- `album_name`\n",
    "- `album_release_date`\n",
    "- `album_total_tracks`\n",
    "- `id_artista` (Clave Foránea que referencia a la tabla `artistas`)\n",
    "\n",
    "#### Tabla de Canciones (`canciones`):\n",
    "- `id_cancion` (Clave Primaria)\n",
    "- `track_name`\n",
    "- `duration_ms`\n",
    "- `track_popularity`\n",
    "- `disc_number`\n",
    "- `track_number`\n",
    "- `explicit`\n",
    "- `audio_features.danceability`\n",
    "- `audio_features.energy`\n",
    "- `audio_features.key`\n",
    "- `audio_features.loudness`\n",
    "- `audio_features.mode`\n",
    "- `audio_features.speechiness`\n",
    "- `audio_features.acousticness`\n",
    "- `audio_features.instrumentalness`\n",
    "- `audio_features.liveness`\n",
    "- `audio_features.valence`\n",
    "- `audio_features.tempo`\n",
    "- `audio_features.id`\n",
    "- `audio_features.time_signature`\n",
    "- `track_id`\n",
    "- `id_album` (Clave Foránea que referencia a la tabla `albunes`)\n",
    "- `id_artista` (Clave Foránea que referencia a la tabla `artistas`)\n"
   ]
  }
 ],
 "metadata": {
  "kernelspec": {
   "display_name": "Python 3",
   "language": "python",
   "name": "python3"
  },
  "language_info": {
   "codemirror_mode": {
    "name": "ipython",
    "version": 3
   },
   "file_extension": ".py",
   "mimetype": "text/x-python",
   "name": "python",
   "nbconvert_exporter": "python",
   "pygments_lexer": "ipython3",
   "version": "3.11.1"
  }
 },
 "nbformat": 4,
 "nbformat_minor": 2
}
